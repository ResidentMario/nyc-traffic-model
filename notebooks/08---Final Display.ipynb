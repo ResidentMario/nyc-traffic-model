{
 "cells": [
  {
   "cell_type": "markdown",
   "metadata": {},
   "source": [
    "# VIII. Final Display"
   ]
  },
  {
   "cell_type": "markdown",
   "metadata": {},
   "source": [
    "Now we work out (finally) displaying the data.\n",
    "\n",
    "The Python geographic community recently gained a new high-level geographic plotting library, [`geoviews`](https://www.continuum.io/blog/developer-blog/introducing-geoviews). This library is itself based on `holoviews`, including its use of grammer of graphics semantics, something I've never forayed into before. Let's try it out.\n",
    "\n",
    "Since it's in early beta status right now, there's no straightforward way to install it from `pip` or `conda` (though the domain *is* [parked](https://pypi.python.org/pypi/geoviews/0.0.0) on the cheeseshop). Instead (per the [instructions](https://github.com/ioam/geoviews#installation)) we run the following through console:\n",
    "\n",
    "    conda install -c scitools/label/dev -c conda-forge iris cartopy\n",
    "    conda install xarray\n",
    "    conda install -c conda-forge -c ioam holoviews>=1.6.2 geoviews\n",
    "    \n",
    "**Note**: because of the poor model performance in the preview, I ended up not following through with this. Oh well! Will have to fool around with `geoviews` another day."
   ]
  }
 ],
 "metadata": {
  "kernelspec": {
   "display_name": "Python [conda env:nyc-traffic-model]",
   "language": "python",
   "name": "conda-env-nyc-traffic-model-py"
  },
  "language_info": {
   "codemirror_mode": {
    "name": "ipython",
    "version": 3
   },
   "file_extension": ".py",
   "mimetype": "text/x-python",
   "name": "python",
   "nbconvert_exporter": "python",
   "pygments_lexer": "ipython3",
   "version": "3.5.2"
  }
 },
 "nbformat": 4,
 "nbformat_minor": 1
}
